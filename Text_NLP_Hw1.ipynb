{
 "cells": [
  {
   "cell_type": "markdown",
   "metadata": {},
   "source": [
    "#  Homework 1"
   ]
  },
  {
   "cell_type": "code",
   "execution_count": 81,
   "metadata": {},
   "outputs": [
    {
     "name": "stderr",
     "output_type": "stream",
     "text": [
      "[nltk_data] Downloading package averaged_perceptron_tagger to\n",
      "[nltk_data]     /nfs/home/mas7522/nltk_data...\n",
      "[nltk_data]   Package averaged_perceptron_tagger is already up-to-\n",
      "[nltk_data]       date!\n"
     ]
    }
   ],
   "source": [
    "import nltk\n",
    "from nltk.tokenize import sent_tokenize, word_tokenize\n",
    "from nltk.stem import PorterStemmer\n",
    "nltk.download('averaged_perceptron_tagger')\n",
    "import os\n",
    "import spacy\n",
    "from spacy.lang.en import English\n",
    "import glob\n",
    "import re\n",
    "import datetime"
   ]
  },
  {
   "cell_type": "markdown",
   "metadata": {},
   "source": [
    "# Compile a list of folders within 20 Newsgroups"
   ]
  },
  {
   "cell_type": "code",
   "execution_count": 55,
   "metadata": {},
   "outputs": [
    {
     "name": "stdout",
     "output_type": "stream",
     "text": [
      "['comp.graphics', 'rec.autos', 'comp.os.ms-windows.misc', 'talk.politics.misc', 'talk.religion.misc', 'rec.motorcycles', 'talk.politics.guns', 'rec.sport.baseball', 'comp.sys.ibm.pc.hardware', 'alt.atheism', 'talk.politics.mideast', 'sci.electronics', 'sci.med', 'rec.sport.hockey', 'sci.crypt', 'sci.space', 'misc.forsale', '.ipynb_checkpoints', 'comp.windows.x', 'comp.sys.mac.hardware', 'soc.religion.christian']\n"
     ]
    }
   ],
   "source": [
    "#get all subfolders with newsgroup data\n",
    "d='NLP_1/20_newsgroups'\n",
    "folders = list(filter(lambda x: os.path.isdir(os.path.join(d, x)), os.listdir(d)))\n",
    "print(folders)"
   ]
  },
  {
   "cell_type": "markdown",
   "metadata": {},
   "source": [
    "# Create text corpus"
   ]
  },
  {
   "cell_type": "code",
   "execution_count": 56,
   "metadata": {},
   "outputs": [],
   "source": [
    "#Creating corpus\n",
    "fulltext = []\n",
    "for i in range(len(folders)):\n",
    "    folder = 'NLP_1/20_newsgroups/' + folders[i]\n",
    "    files = list(filter(lambda x: os.path.isfile(os.path.join(folder, x)), os.listdir(folder)))\n",
    "    for j in range(len(files)):\n",
    "        file1 = open(folder + '/' + files[j], \"r+\", encoding=\"latin-1\")\n",
    "        text = file1.read()\n",
    "        fulltext.append(text)\n",
    "        file1.close()"
   ]
  },
  {
   "cell_type": "markdown",
   "metadata": {},
   "source": [
    "# NLTK Tokenizers"
   ]
  },
  {
   "cell_type": "code",
   "execution_count": 60,
   "metadata": {},
   "outputs": [
    {
     "name": "stdout",
     "output_type": "stream",
     "text": [
      "Time: 0:01:34.125195\n"
     ]
    }
   ],
   "source": [
    "time=datetime.datetime.now()\n",
    "sentence_tokens = []\n",
    "word_tokens = []\n",
    "for document in fulltext:\n",
    "    sentences = sent_tokenize(document)\n",
    "    words = word_tokenize(document)\n",
    "    for i in sentences:\n",
    "        sentence_tokens.append(i)\n",
    "    for j in words:\n",
    "        word_tokens.append(j)\n",
    "print(\"Time: %s\"%(datetime.datetime.now()-time))"
   ]
  },
  {
   "cell_type": "markdown",
   "metadata": {},
   "source": [
    "# NLTK Stemming"
   ]
  },
  {
   "cell_type": "code",
   "execution_count": 64,
   "metadata": {},
   "outputs": [
    {
     "name": "stdout",
     "output_type": "stream",
     "text": [
      "Time: 0:02:13.188117\n"
     ]
    }
   ],
   "source": [
    "time=datetime.datetime.now()\n",
    "stem = PorterStemmer()\n",
    "corpus_stems = []\n",
    "for i in word_tokens:\n",
    "    corpus_stems.append(stem.stem(i))\n",
    "print(\"Time: %s\"%(datetime.datetime.now()-time))"
   ]
  },
  {
   "cell_type": "markdown",
   "metadata": {},
   "source": [
    "# NLTK POS Tagging"
   ]
  },
  {
   "cell_type": "code",
   "execution_count": 67,
   "metadata": {},
   "outputs": [
    {
     "name": "stdout",
     "output_type": "stream",
     "text": [
      "Time: 0:05:21.443010\n"
     ]
    }
   ],
   "source": [
    "time=datetime.datetime.now()\n",
    "POS_tagged_corpus = nltk.pos_tag(word_tokens)\n",
    "print(\"Time: %s\"%(datetime.datetime.now()-time))"
   ]
  },
  {
   "cell_type": "markdown",
   "metadata": {},
   "source": [
    "# Spacy Tokenizers"
   ]
  },
  {
   "cell_type": "code",
   "execution_count": 69,
   "metadata": {},
   "outputs": [
    {
     "name": "stdout",
     "output_type": "stream",
     "text": [
      "Time: 0:01:48.458458\n"
     ]
    }
   ],
   "source": [
    "time=datetime.datetime.now()\n",
    "nlp = English()\n",
    "nlp.add_pipe(nlp.create_pipe('sentencizer'))\n",
    "spacy_sentence_tokens = []\n",
    "spacy_word_tokens = []\n",
    "for i in fulltext:\n",
    "    file = nlp(i)\n",
    "    s = [j.string.strip() for j in file.sents]\n",
    "    w = [k.text for k in file]\n",
    "    for j in s:\n",
    "        spacy_sentence_tokens.append(j)\n",
    "    for k in w:\n",
    "        spacy_word_tokens.append(k)\n",
    "print(\"Time: %s\"%(datetime.datetime.now()-time))"
   ]
  },
  {
   "cell_type": "markdown",
   "metadata": {},
   "source": [
    "# Spacy POS Tagging"
   ]
  },
  {
   "cell_type": "code",
   "execution_count": 86,
   "metadata": {},
   "outputs": [
    {
     "name": "stdout",
     "output_type": "stream",
     "text": [
      "Time: 0:01:33.774157\n"
     ]
    }
   ],
   "source": [
    "time=datetime.datetime.now()\n",
    "spacy_corpus_POS = []\n",
    "for i in fulltext:\n",
    "    file = nlp(i)\n",
    "    for j in file:\n",
    "        spacy_corpus_POS.append([j.text,j.pos_])\n",
    "print(\"Time: %s\"%(datetime.datetime.now()-time))"
   ]
  },
  {
   "cell_type": "markdown",
   "metadata": {},
   "source": [
    "# Regexp: Emails"
   ]
  },
  {
   "cell_type": "code",
   "execution_count": 71,
   "metadata": {},
   "outputs": [],
   "source": [
    "emails = []\n",
    "\n",
    "for i in spacy_sentence_tokens:\n",
    "        one = re.findall(r'[\\w\\.-]+@[\\w-]+\\.[\\w\\.-]+', i)\n",
    "        for i in one:\n",
    "            emails.append(i)"
   ]
  },
  {
   "cell_type": "code",
   "execution_count": 77,
   "metadata": {},
   "outputs": [
    {
     "data": {
      "text/plain": [
       "115613"
      ]
     },
     "execution_count": 77,
     "metadata": {},
     "output_type": "execute_result"
    }
   ],
   "source": [
    "len(emails)"
   ]
  },
  {
   "cell_type": "code",
   "execution_count": 78,
   "metadata": {},
   "outputs": [
    {
     "data": {
      "text/plain": [
       "['saz@hook.corp.mot.com',\n",
       " '1993Apr16.160705.4346@schbbs.mot.com',\n",
       " 'saz@diablo.corp.mot.com',\n",
       " 'ab@nova.cc.purdue.edu',\n",
       " 'C5Fstu.6wz@mentor.cc.purdue.edu',\n",
       " 'news@mentor.cc.purdue.edu',\n",
       " '1q7615INNmi@shelley.u.washington.edu',\n",
       " '1q7615INNmi@shelley.u.washington.edu',\n",
       " 'kshin@stein.u.washington.edu',\n",
       " 'zyeh@caspian.usc.edu']"
      ]
     },
     "execution_count": 78,
     "metadata": {},
     "output_type": "execute_result"
    }
   ],
   "source": [
    "emails[0:10]"
   ]
  },
  {
   "cell_type": "markdown",
   "metadata": {},
   "source": [
    "# Regexp: Dates"
   ]
  },
  {
   "cell_type": "code",
   "execution_count": 74,
   "metadata": {},
   "outputs": [],
   "source": [
    "d1= '(Jan|Feb|Mar|Apr|May|Jun|July|Aug|Sept|Oct|Nov|Dec)\\s(\\d\\d?).+?(\\d\\d\\d\\d)'\n",
    "d2= '(January|February|March|April|May|June|July|August|September|October|November|December)\\s(\\d\\d?).+?(\\d\\d\\d\\d)'\n",
    "d3= '(\\d\\d?)\\s(Jan|Feb|Mar|Apr|May|Jun|Jul|Aug|Sept|Oct|Nov|Dec),?\\s+?(\\d\\d\\d\\d)'\n",
    "d4= '(\\d\\d?)\\s(January|February|March|April|May|June|July|August|September|October|November|December),?\\s+?(\\d\\d\\d\\d)'\n",
    "dates = []\n",
    "for i in spacy_sentence_tokens:\n",
    "    one = re.findall(d1, i) + re.findall(d2, i) + re.findall(d3, i) + re.findall(d4, i)\n",
    "    for i in one:\n",
    "        dates.append(i)"
   ]
  },
  {
   "cell_type": "code",
   "execution_count": 75,
   "metadata": {},
   "outputs": [
    {
     "data": {
      "text/plain": [
       "17752"
      ]
     },
     "execution_count": 75,
     "metadata": {},
     "output_type": "execute_result"
    }
   ],
   "source": [
    "len(dates)"
   ]
  },
  {
   "cell_type": "code",
   "execution_count": 76,
   "metadata": {},
   "outputs": [
    {
     "data": {
      "text/plain": [
       "[('16', 'Apr', '1993'),\n",
       " ('13', 'Apr', '1993'),\n",
       " ('Apr', '19', '0700'),\n",
       " ('28', 'Apr', '1993'),\n",
       " ('22', 'Apr', '1993'),\n",
       " ('16', 'Apr', '1993'),\n",
       " ('16', 'Apr', '1993'),\n",
       " ('16', 'Apr', '1993'),\n",
       " ('16', 'Apr', '1993'),\n",
       " ('14', 'Apr', '1993')]"
      ]
     },
     "execution_count": 76,
     "metadata": {},
     "output_type": "execute_result"
    }
   ],
   "source": [
    "dates[0:10]"
   ]
  },
  {
   "cell_type": "code",
   "execution_count": 84,
   "metadata": {},
   "outputs": [
    {
     "ename": "NameError",
     "evalue": "name 'spacy_corpus_POS' is not defined",
     "output_type": "error",
     "traceback": [
      "\u001b[0;31m---------------------------------------------------------------------------\u001b[0m",
      "\u001b[0;31mNameError\u001b[0m                                 Traceback (most recent call last)",
      "\u001b[0;32m<ipython-input-84-e78aec4c4de9>\u001b[0m in \u001b[0;36m<module>\u001b[0;34m\u001b[0m\n\u001b[0;32m----> 1\u001b[0;31m \u001b[0mspacy_corpus_POS\u001b[0m\u001b[0;34m\u001b[0m\u001b[0;34m\u001b[0m\u001b[0m\n\u001b[0m",
      "\u001b[0;31mNameError\u001b[0m: name 'spacy_corpus_POS' is not defined"
     ]
    }
   ],
   "source": [
    "spacy_corpus_POS"
   ]
  },
  {
   "cell_type": "code",
   "execution_count": 85,
   "metadata": {},
   "outputs": [
    {
     "data": {
      "text/plain": [
       "datetime.datetime(2019, 10, 10, 13, 35, 11, 660304)"
      ]
     },
     "execution_count": 85,
     "metadata": {},
     "output_type": "execute_result"
    }
   ],
   "source": [
    "time"
   ]
  },
  {
   "cell_type": "code",
   "execution_count": null,
   "metadata": {},
   "outputs": [],
   "source": []
  }
 ],
 "metadata": {
  "kernelspec": {
   "display_name": "Python 3",
   "language": "python",
   "name": "python3"
  },
  "language_info": {
   "codemirror_mode": {
    "name": "ipython",
    "version": 3
   },
   "file_extension": ".py",
   "mimetype": "text/x-python",
   "name": "python",
   "nbconvert_exporter": "python",
   "pygments_lexer": "ipython3",
   "version": "3.7.1"
  }
 },
 "nbformat": 4,
 "nbformat_minor": 2
}
